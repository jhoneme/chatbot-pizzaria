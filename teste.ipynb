{
 "cells": [
  {
   "cell_type": "code",
   "execution_count": 73,
   "metadata": {},
   "outputs": [],
   "source": [
    "import json\n",
    "import requests\n",
    "from langchain.llms import OpenAI\n",
    "from langchain.chains import LLMChain\n",
    "from langchain.prompts import PromptTemplate\n",
    "\n",
    "template_text = \"\"\"\n",
    "You will be provided with text that represents a chat history. \\\n",
    "Your task is to identify the order request in the chat history and extract information from it in json format, \\\n",
    "only in one line and with the following keys: pizza_type, size, toppings, customer_name, address. \\\n",
    "\n",
    "The toppings can be more than one, so you should return a list of toppings. \\\n",
    "\n",
    "If the text does not contains a valid order request, you should return an empty for each one of the keys.\n",
    "\n",
    "{chat_history}\n",
    "\"\"\"\n",
    "\n",
    "prompt = PromptTemplate(\n",
    "    input_variables=[\"chat_history\"],\n",
    "    template=template_text,\n",
    ")"
   ]
  },
  {
   "cell_type": "code",
   "execution_count": 76,
   "metadata": {},
   "outputs": [],
   "source": [
    "llm = OpenAI(temperature=0.9)\n",
    "chain = LLMChain(llm=llm, prompt=prompt)\n",
    "\n",
    "chat_history = [\n",
    "    ('Quais pizzas que tem?', 'A pizzaria oferece as seguintes opções de pizza:\\n1. Pepperoni\\n2. Margherita\\n3. Quatro Queijos\\n4. Frutos do Mar\\n5. Cogumelos Selvagens\\n6. Vegana\\n7. Berinjela\\n8. Carne Seca\\n9. Queijo Coalho\\n10. Palmito\\n11. Bacon com Milho\\n12. Bacon com Cebola\\n\\nLembrando que é possível fazer uma pizza com dois sabores diferentes, mas o preço será o da pizza com o preço maior.'), \n",
    "    ('Eu quero uma pizza Quatro Queijos. Quanto que tá?', 'The price of a Quatro Queijos pizza is R$28,00.'), \n",
    "    ('Ok quero uma. Moro na Alameda dos anjos, número 1000', 'Você deseja algum adicional?'),\n",
    "    ('Sim, quero borda de bacon extra', 'Ok. Como você se chama?'),\n",
    "    ('Me chamo Denise', 'Ok, seu pedido foi realizado com sucesso. Ele será entregue na Alameda dos anjos, número 1000 em 30 minutos.')]\n",
    "\n",
    "order_request = chain.run(chat_history)"
   ]
  },
  {
   "cell_type": "code",
   "execution_count": 77,
   "metadata": {},
   "outputs": [
    {
     "name": "stdout",
     "output_type": "stream",
     "text": [
      "Order created successfully!\n"
     ]
    }
   ],
   "source": [
    "# Send a POST request to create the order\n",
    "api_url = \"http://localhost:8000/orders\"\n",
    "response = requests.post(api_url, json=json.loads(order_request))\n",
    "\n",
    "# Check the response status code\n",
    "if response.status_code == 200:\n",
    "    print(\"Order created successfully!\")\n",
    "else:\n",
    "    print(\"Error creating order.\")"
   ]
  },
  {
   "cell_type": "code",
   "execution_count": null,
   "metadata": {},
   "outputs": [],
   "source": []
  }
 ],
 "metadata": {
  "kernelspec": {
   "display_name": ".venv",
   "language": "python",
   "name": "python3"
  },
  "language_info": {
   "codemirror_mode": {
    "name": "ipython",
    "version": 3
   },
   "file_extension": ".py",
   "mimetype": "text/x-python",
   "name": "python",
   "nbconvert_exporter": "python",
   "pygments_lexer": "ipython3",
   "version": "3.10.9"
  },
  "orig_nbformat": 4
 },
 "nbformat": 4,
 "nbformat_minor": 2
}
